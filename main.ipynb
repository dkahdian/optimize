{
 "cells": [
  {
   "cell_type": "markdown",
   "id": "5a3fe8c1",
   "metadata": {},
   "source": [
    "# Overview\n",
    "The purpose of this project is to perform portfolio optimization based on forward-looking indicators. This involves using an ML model to predict returns for stocks and bonds."
   ]
  },
  {
   "cell_type": "code",
   "execution_count": null,
   "id": "8422fb44",
   "metadata": {},
   "outputs": [],
   "source": [
    "# Imports\n",
    "import datetime\n",
    "import torch\n",
    "import pandas as pd\n",
    "import matplotlib.pyplot as plt\n",
    "import numpy as np\n",
    "import yfinance as yf\n",
    "import warnings\n",
    "warnings.filterwarnings('ignore')\n",
    "\n",
    "# Load the Philadelphia Fed data\n",
    "PHILLY_FED_DATA = pd.read_csv('phillyfedgrowthrate.csv')\n",
    "\n",
    "def get_expected_gdp_growth(date):\n",
    "    \"\"\"\n",
    "    Get GDP growth predictions from Philadelphia Federal Reserve \n",
    "    Survey of Professional Forecasters using DRGDP3 data.\n",
    "    \n",
    "    Args:\n",
    "        date: datetime object for which we want the GDP growth prediction\n",
    "    \n",
    "    Returns:\n",
    "        Expected GDP growth rate as a float (e.g., 0.025 for 2.5%)\n",
    "    \"\"\"\n",
    "    try:\n",
    "        # Parse datetime to year and quarter\n",
    "        year = date.year\n",
    "        quarter = (date.month - 1) // 3 + 1\n",
    "        \n",
    "        # Find the row with the target date\n",
    "        mask = (PHILLY_FED_DATA['YEAR'] == year) & (PHILLY_FED_DATA['QUARTER'] == quarter)\n",
    "        data_row = PHILLY_FED_DATA[mask]\n",
    "        \n",
    "        if not data_row.empty:\n",
    "            # Get DRGDP3 value from the target quarter\n",
    "            drgdp3_value = data_row['DRGDP3'].iloc[0]\n",
    "            \n",
    "            # Handle missing data\n",
    "            if pd.isna(drgdp3_value) or drgdp3_value == '#N/A':\n",
    "                # Try DRGDP2 as backup\n",
    "                drgdp2_value = data_row['DRGDP2'].iloc[0]\n",
    "                if not pd.isna(drgdp2_value) and drgdp2_value != '#N/A':\n",
    "                    return float(drgdp2_value) / 100.0\n",
    "                \n",
    "                # Final fallback\n",
    "                return 0.025  # 2.5% default\n",
    "            else:\n",
    "                return float(drgdp3_value) / 100.0  # Convert percentage to decimal\n",
    "        else:\n",
    "            # No data found for the exact quarter, return default\n",
    "            print(f\"Warning: GDP growth data for quarter {quarter} {year} not found. Using default value of 2.5%.\")\n",
    "            return 0.025  # 2.5% default\n",
    "            \n",
    "    except Exception as e:\n",
    "        print(f\"Warning: GDP growth data for quarter {quarter} {year} not properly loaded. Using default value of 2.5%.\")\n",
    "        return 0.025  # 2.5% safe default\n",
    "\n",
    "\n",
    "def get_expected_inflation(date):\n",
    "    # Placeholder function to simulate inflation prediction\n",
    "    return 0.03  # Assume 3% inflation\n",
    "\n",
    "def get_expected_interest_rate(date):\n",
    "    # Placeholder function to simulate interest rate prediction\n",
    "    return 0.01  # Assume 1% interest rate\n",
    "\n",
    "def get_forward_pe(date, asset):\n",
    "    # Placeholder function to simulate forward P/E ratio prediction\n",
    "    return 15.0  # Assume a forward P/E ratio of 15"
   ]
  },
  {
   "cell_type": "code",
   "execution_count": null,
   "id": "c2de7df2",
   "metadata": {},
   "outputs": [
    {
     "name": "stdout",
     "output_type": "stream",
     "text": [
      "Q3 2022 GDP growth prediction: 1.49%\n"
     ]
    }
   ],
   "source": [
    "# Philadelphia Fed Survey of Professional Forecasters - GDP Growth Predictions\n",
    "import pandas as pd\n",
    "import datetime\n",
    "\n",
    "\n",
    "\n",
    "\n",
    "\n",
    "\n",
    "# Simple test\n",
    "test_date = datetime.datetime(2022, 9, 30)  # Q3 2022\n",
    "result = get_expected_gdp_growth(test_date)\n",
    "print(f\"Q3 2022 GDP growth prediction: {result*100:.2f}%\")"
   ]
  }
 ],
 "metadata": {
  "kernelspec": {
   "display_name": ".venv",
   "language": "python",
   "name": "python3"
  },
  "language_info": {
   "codemirror_mode": {
    "name": "ipython",
    "version": 3
   },
   "file_extension": ".py",
   "mimetype": "text/x-python",
   "name": "python",
   "nbconvert_exporter": "python",
   "pygments_lexer": "ipython3",
   "version": "3.13.2"
  }
 },
 "nbformat": 4,
 "nbformat_minor": 5
}
